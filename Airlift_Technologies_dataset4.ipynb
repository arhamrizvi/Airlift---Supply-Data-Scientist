{
 "cells": [
  {
   "cell_type": "code",
   "execution_count": 1,
   "metadata": {},
   "outputs": [],
   "source": [
    "import pandas as pd\n",
    "import matplotlib.pyplot as plt\n",
    "#import datetime\n",
    "import numpy as np"
   ]
  },
  {
   "cell_type": "code",
   "execution_count": 2,
   "metadata": {},
   "outputs": [
    {
     "data": {
      "text/html": [
       "<div>\n",
       "<style scoped>\n",
       "    .dataframe tbody tr th:only-of-type {\n",
       "        vertical-align: middle;\n",
       "    }\n",
       "\n",
       "    .dataframe tbody tr th {\n",
       "        vertical-align: top;\n",
       "    }\n",
       "\n",
       "    .dataframe thead th {\n",
       "        text-align: right;\n",
       "    }\n",
       "</style>\n",
       "<table border=\"1\" class=\"dataframe\">\n",
       "  <thead>\n",
       "    <tr style=\"text-align: right;\">\n",
       "      <th></th>\n",
       "      <th>created_at</th>\n",
       "      <th>order_id</th>\n",
       "      <th>warehouse_id</th>\n",
       "      <th>complaint_reason_id</th>\n",
       "      <th>complaint_reason_title</th>\n",
       "      <th>complaint_sub_reason_id</th>\n",
       "      <th>complaint_sub_reason_title</th>\n",
       "      <th>product_id</th>\n",
       "      <th>product_name</th>\n",
       "      <th>is_centralized</th>\n",
       "      <th>supplier</th>\n",
       "      <th>description</th>\n",
       "      <th>resolved_action</th>\n",
       "    </tr>\n",
       "  </thead>\n",
       "  <tbody>\n",
       "    <tr>\n",
       "      <th>0</th>\n",
       "      <td>1/1/21 5:43</td>\n",
       "      <td>NaN</td>\n",
       "      <td>NaN</td>\n",
       "      <td>5.0</td>\n",
       "      <td>Payment</td>\n",
       "      <td>7.0</td>\n",
       "      <td>Credits were not uploaded</td>\n",
       "      <td>NaN</td>\n",
       "      <td>NaN</td>\n",
       "      <td>NaN</td>\n",
       "      <td>NaN</td>\n",
       "      <td>Points are not appering in my account</td>\n",
       "      <td>call</td>\n",
       "    </tr>\n",
       "    <tr>\n",
       "      <th>1</th>\n",
       "      <td>1/1/21 8:49</td>\n",
       "      <td>NaN</td>\n",
       "      <td>NaN</td>\n",
       "      <td>4.0</td>\n",
       "      <td>Technical</td>\n",
       "      <td>8.0</td>\n",
       "      <td>App is not working</td>\n",
       "      <td>NaN</td>\n",
       "      <td>NaN</td>\n",
       "      <td>NaN</td>\n",
       "      <td>NaN</td>\n",
       "      <td>order ho hi nhai RHA address likny my bad agy ...</td>\n",
       "      <td>call</td>\n",
       "    </tr>\n",
       "    <tr>\n",
       "      <th>2</th>\n",
       "      <td>1/1/21 10:03</td>\n",
       "      <td>NaN</td>\n",
       "      <td>NaN</td>\n",
       "      <td>4.0</td>\n",
       "      <td>Technical</td>\n",
       "      <td>18.0</td>\n",
       "      <td>Other</td>\n",
       "      <td>NaN</td>\n",
       "      <td>NaN</td>\n",
       "      <td>NaN</td>\n",
       "      <td>NaN</td>\n",
       "      <td>What ever item I'm selecting to buy eith it's ...</td>\n",
       "      <td>call</td>\n",
       "    </tr>\n",
       "    <tr>\n",
       "      <th>3</th>\n",
       "      <td>1/1/21 10:04</td>\n",
       "      <td>NaN</td>\n",
       "      <td>NaN</td>\n",
       "      <td>4.0</td>\n",
       "      <td>Technical</td>\n",
       "      <td>18.0</td>\n",
       "      <td>Other</td>\n",
       "      <td>NaN</td>\n",
       "      <td>NaN</td>\n",
       "      <td>NaN</td>\n",
       "      <td>NaN</td>\n",
       "      <td>Y'all take forever to Restock.</td>\n",
       "      <td>call</td>\n",
       "    </tr>\n",
       "    <tr>\n",
       "      <th>4</th>\n",
       "      <td>1/1/21 11:13</td>\n",
       "      <td>NaN</td>\n",
       "      <td>NaN</td>\n",
       "      <td>5.0</td>\n",
       "      <td>Payment</td>\n",
       "      <td>7.0</td>\n",
       "      <td>Credits were not uploaded</td>\n",
       "      <td>NaN</td>\n",
       "      <td>NaN</td>\n",
       "      <td>NaN</td>\n",
       "      <td>NaN</td>\n",
       "      <td>NaN</td>\n",
       "      <td>call</td>\n",
       "    </tr>\n",
       "  </tbody>\n",
       "</table>\n",
       "</div>"
      ],
      "text/plain": [
       "     created_at  order_id  warehouse_id  complaint_reason_id  \\\n",
       "0   1/1/21 5:43       NaN           NaN                  5.0   \n",
       "1   1/1/21 8:49       NaN           NaN                  4.0   \n",
       "2  1/1/21 10:03       NaN           NaN                  4.0   \n",
       "3  1/1/21 10:04       NaN           NaN                  4.0   \n",
       "4  1/1/21 11:13       NaN           NaN                  5.0   \n",
       "\n",
       "  complaint_reason_title  complaint_sub_reason_id complaint_sub_reason_title  \\\n",
       "0                Payment                      7.0  Credits were not uploaded   \n",
       "1              Technical                      8.0         App is not working   \n",
       "2              Technical                     18.0                      Other   \n",
       "3              Technical                     18.0                      Other   \n",
       "4                Payment                      7.0  Credits were not uploaded   \n",
       "\n",
       "   product_id product_name is_centralized supplier  \\\n",
       "0         NaN          NaN            NaN      NaN   \n",
       "1         NaN          NaN            NaN      NaN   \n",
       "2         NaN          NaN            NaN      NaN   \n",
       "3         NaN          NaN            NaN      NaN   \n",
       "4         NaN          NaN            NaN      NaN   \n",
       "\n",
       "                                         description resolved_action  \n",
       "0              Points are not appering in my account            call  \n",
       "1  order ho hi nhai RHA address likny my bad agy ...            call  \n",
       "2  What ever item I'm selecting to buy eith it's ...            call  \n",
       "3                    Y'all take forever to Restock.             call  \n",
       "4                                                NaN            call  "
      ]
     },
     "execution_count": 2,
     "metadata": {},
     "output_type": "execute_result"
    }
   ],
   "source": [
    "df4 = pd.read_csv('Airlift - case study - data set - Data set 4.csv')\n",
    "df4.head()"
   ]
  },
  {
   "cell_type": "code",
   "execution_count": 3,
   "metadata": {},
   "outputs": [
    {
     "name": "stdout",
     "output_type": "stream",
     "text": [
      "<class 'pandas.core.frame.DataFrame'>\n",
      "RangeIndex: 95393 entries, 0 to 95392\n",
      "Data columns (total 13 columns):\n",
      " #   Column                      Non-Null Count  Dtype  \n",
      "---  ------                      --------------  -----  \n",
      " 0   created_at                  95393 non-null  object \n",
      " 1   order_id                    76812 non-null  float64\n",
      " 2   warehouse_id                76812 non-null  float64\n",
      " 3   complaint_reason_id         80867 non-null  float64\n",
      " 4   complaint_reason_title      80867 non-null  object \n",
      " 5   complaint_sub_reason_id     80185 non-null  float64\n",
      " 6   complaint_sub_reason_title  80185 non-null  object \n",
      " 7   product_id                  35931 non-null  float64\n",
      " 8   product_name                35931 non-null  object \n",
      " 9   is_centralized              32323 non-null  object \n",
      " 10  supplier                    35400 non-null  object \n",
      " 11  description                 72336 non-null  object \n",
      " 12  resolved_action             95393 non-null  object \n",
      "dtypes: float64(5), object(8)\n",
      "memory usage: 9.5+ MB\n"
     ]
    }
   ],
   "source": [
    "df4.info()"
   ]
  },
  {
   "cell_type": "code",
   "execution_count": 5,
   "metadata": {},
   "outputs": [
    {
     "name": "stdout",
     "output_type": "stream",
     "text": [
      "<class 'pandas.core.frame.DataFrame'>\n",
      "RangeIndex: 95393 entries, 0 to 95392\n",
      "Data columns (total 13 columns):\n",
      " #   Column                      Non-Null Count  Dtype         \n",
      "---  ------                      --------------  -----         \n",
      " 0   created_at                  95393 non-null  datetime64[ns]\n",
      " 1   order_id                    76812 non-null  float64       \n",
      " 2   warehouse_id                76812 non-null  float64       \n",
      " 3   complaint_reason_id         80867 non-null  float64       \n",
      " 4   complaint_reason_title      80867 non-null  object        \n",
      " 5   complaint_sub_reason_id     80185 non-null  float64       \n",
      " 6   complaint_sub_reason_title  80185 non-null  object        \n",
      " 7   product_id                  35931 non-null  float64       \n",
      " 8   product_name                35931 non-null  object        \n",
      " 9   is_centralized              32323 non-null  object        \n",
      " 10  supplier                    35400 non-null  object        \n",
      " 11  description                 72336 non-null  object        \n",
      " 12  resolved_action             95393 non-null  object        \n",
      "dtypes: datetime64[ns](1), float64(5), object(7)\n",
      "memory usage: 9.5+ MB\n"
     ]
    }
   ],
   "source": [
    "#convert from object to date time\n",
    "df4['created_at'] = pd.to_datetime(df4['created_at'])\n",
    "df4.info()"
   ]
  },
  {
   "cell_type": "code",
   "execution_count": 7,
   "metadata": {},
   "outputs": [
    {
     "data": {
      "text/plain": [
       "created_at                        0\n",
       "order_id                      18581\n",
       "warehouse_id                  18581\n",
       "complaint_reason_id           14526\n",
       "complaint_reason_title        14526\n",
       "complaint_sub_reason_id       15208\n",
       "complaint_sub_reason_title    15208\n",
       "product_id                    59462\n",
       "product_name                  59462\n",
       "is_centralized                63070\n",
       "supplier                      59993\n",
       "description                   23057\n",
       "resolved_action                   0\n",
       "dtype: int64"
      ]
     },
     "execution_count": 7,
     "metadata": {},
     "output_type": "execute_result"
    }
   ],
   "source": [
    "df4.isna().sum()"
   ]
  },
  {
   "cell_type": "code",
   "execution_count": 11,
   "metadata": {},
   "outputs": [
    {
     "data": {
      "text/html": [
       "<div>\n",
       "<style scoped>\n",
       "    .dataframe tbody tr th:only-of-type {\n",
       "        vertical-align: middle;\n",
       "    }\n",
       "\n",
       "    .dataframe tbody tr th {\n",
       "        vertical-align: top;\n",
       "    }\n",
       "\n",
       "    .dataframe thead th {\n",
       "        text-align: right;\n",
       "    }\n",
       "</style>\n",
       "<table border=\"1\" class=\"dataframe\">\n",
       "  <thead>\n",
       "    <tr style=\"text-align: right;\">\n",
       "      <th></th>\n",
       "      <th>created_at</th>\n",
       "      <th>order_id</th>\n",
       "      <th>warehouse_id</th>\n",
       "      <th>complaint_reason_id</th>\n",
       "      <th>complaint_reason_title</th>\n",
       "      <th>complaint_sub_reason_id</th>\n",
       "      <th>complaint_sub_reason_title</th>\n",
       "      <th>product_id</th>\n",
       "      <th>product_name</th>\n",
       "      <th>is_centralized</th>\n",
       "      <th>supplier</th>\n",
       "      <th>description</th>\n",
       "      <th>resolved_action</th>\n",
       "      <th>month</th>\n",
       "    </tr>\n",
       "  </thead>\n",
       "  <tbody>\n",
       "    <tr>\n",
       "      <th>0</th>\n",
       "      <td>2021-01-01 05:43:00</td>\n",
       "      <td>NaN</td>\n",
       "      <td>NaN</td>\n",
       "      <td>5.0</td>\n",
       "      <td>Payment</td>\n",
       "      <td>7.0</td>\n",
       "      <td>Credits were not uploaded</td>\n",
       "      <td>NaN</td>\n",
       "      <td>NaN</td>\n",
       "      <td>NaN</td>\n",
       "      <td>NaN</td>\n",
       "      <td>Points are not appering in my account</td>\n",
       "      <td>call</td>\n",
       "      <td>1</td>\n",
       "    </tr>\n",
       "    <tr>\n",
       "      <th>1</th>\n",
       "      <td>2021-01-01 08:49:00</td>\n",
       "      <td>NaN</td>\n",
       "      <td>NaN</td>\n",
       "      <td>4.0</td>\n",
       "      <td>Technical</td>\n",
       "      <td>8.0</td>\n",
       "      <td>App is not working</td>\n",
       "      <td>NaN</td>\n",
       "      <td>NaN</td>\n",
       "      <td>NaN</td>\n",
       "      <td>NaN</td>\n",
       "      <td>order ho hi nhai RHA address likny my bad agy ...</td>\n",
       "      <td>call</td>\n",
       "      <td>1</td>\n",
       "    </tr>\n",
       "    <tr>\n",
       "      <th>2</th>\n",
       "      <td>2021-01-01 10:03:00</td>\n",
       "      <td>NaN</td>\n",
       "      <td>NaN</td>\n",
       "      <td>4.0</td>\n",
       "      <td>Technical</td>\n",
       "      <td>18.0</td>\n",
       "      <td>Other</td>\n",
       "      <td>NaN</td>\n",
       "      <td>NaN</td>\n",
       "      <td>NaN</td>\n",
       "      <td>NaN</td>\n",
       "      <td>What ever item I'm selecting to buy eith it's ...</td>\n",
       "      <td>call</td>\n",
       "      <td>1</td>\n",
       "    </tr>\n",
       "    <tr>\n",
       "      <th>3</th>\n",
       "      <td>2021-01-01 10:04:00</td>\n",
       "      <td>NaN</td>\n",
       "      <td>NaN</td>\n",
       "      <td>4.0</td>\n",
       "      <td>Technical</td>\n",
       "      <td>18.0</td>\n",
       "      <td>Other</td>\n",
       "      <td>NaN</td>\n",
       "      <td>NaN</td>\n",
       "      <td>NaN</td>\n",
       "      <td>NaN</td>\n",
       "      <td>Y'all take forever to Restock.</td>\n",
       "      <td>call</td>\n",
       "      <td>1</td>\n",
       "    </tr>\n",
       "    <tr>\n",
       "      <th>4</th>\n",
       "      <td>2021-01-01 11:13:00</td>\n",
       "      <td>NaN</td>\n",
       "      <td>NaN</td>\n",
       "      <td>5.0</td>\n",
       "      <td>Payment</td>\n",
       "      <td>7.0</td>\n",
       "      <td>Credits were not uploaded</td>\n",
       "      <td>NaN</td>\n",
       "      <td>NaN</td>\n",
       "      <td>NaN</td>\n",
       "      <td>NaN</td>\n",
       "      <td>NaN</td>\n",
       "      <td>call</td>\n",
       "      <td>1</td>\n",
       "    </tr>\n",
       "    <tr>\n",
       "      <th>...</th>\n",
       "      <td>...</td>\n",
       "      <td>...</td>\n",
       "      <td>...</td>\n",
       "      <td>...</td>\n",
       "      <td>...</td>\n",
       "      <td>...</td>\n",
       "      <td>...</td>\n",
       "      <td>...</td>\n",
       "      <td>...</td>\n",
       "      <td>...</td>\n",
       "      <td>...</td>\n",
       "      <td>...</td>\n",
       "      <td>...</td>\n",
       "      <td>...</td>\n",
       "    </tr>\n",
       "    <tr>\n",
       "      <th>95388</th>\n",
       "      <td>2021-06-22 16:04:00</td>\n",
       "      <td>959674.0</td>\n",
       "      <td>38.0</td>\n",
       "      <td>3.0</td>\n",
       "      <td>Product Quality/Damage</td>\n",
       "      <td>14.0</td>\n",
       "      <td>Missed</td>\n",
       "      <td>6204.0</td>\n",
       "      <td>Sabroso Shami Kabab 240gm</td>\n",
       "      <td>False</td>\n",
       "      <td>Sabroso</td>\n",
       "      <td>2 items are missing \\nseekh kabab\\nshani kabab</td>\n",
       "      <td>unresolved</td>\n",
       "      <td>6</td>\n",
       "    </tr>\n",
       "    <tr>\n",
       "      <th>95389</th>\n",
       "      <td>2021-06-23 11:07:00</td>\n",
       "      <td>967042.0</td>\n",
       "      <td>1.0</td>\n",
       "      <td>3.0</td>\n",
       "      <td>Product Quality/Damage</td>\n",
       "      <td>14.0</td>\n",
       "      <td>Missed</td>\n",
       "      <td>9910.0</td>\n",
       "      <td>Dunhill Cigarette International Red (20 Cigare...</td>\n",
       "      <td>True</td>\n",
       "      <td>Qayyums Traders</td>\n",
       "      <td>this item is missing \\n</td>\n",
       "      <td>unresolved</td>\n",
       "      <td>6</td>\n",
       "    </tr>\n",
       "    <tr>\n",
       "      <th>95390</th>\n",
       "      <td>2021-06-23 19:02:00</td>\n",
       "      <td>921032.0</td>\n",
       "      <td>39.0</td>\n",
       "      <td>3.0</td>\n",
       "      <td>Product Quality/Damage</td>\n",
       "      <td>12.0</td>\n",
       "      <td>Damaged</td>\n",
       "      <td>945.0</td>\n",
       "      <td>Farm Fresh Classic Eggs Half Dozen</td>\n",
       "      <td>False</td>\n",
       "      <td>Farm Fresh</td>\n",
       "      <td>One of the eggs was broken.</td>\n",
       "      <td>unresolved</td>\n",
       "      <td>6</td>\n",
       "    </tr>\n",
       "    <tr>\n",
       "      <th>95391</th>\n",
       "      <td>2021-06-25 14:34:00</td>\n",
       "      <td>992164.0</td>\n",
       "      <td>239.0</td>\n",
       "      <td>3.0</td>\n",
       "      <td>Product Quality/Damage</td>\n",
       "      <td>35.0</td>\n",
       "      <td>Poor quality</td>\n",
       "      <td>6747.0</td>\n",
       "      <td>Veal Mix 900gm</td>\n",
       "      <td>False</td>\n",
       "      <td>Chicken Point</td>\n",
       "      <td>the package mainly consisted of bones there we...</td>\n",
       "      <td>unresolved</td>\n",
       "      <td>6</td>\n",
       "    </tr>\n",
       "    <tr>\n",
       "      <th>95392</th>\n",
       "      <td>2021-06-27 08:37:00</td>\n",
       "      <td>1008915.0</td>\n",
       "      <td>238.0</td>\n",
       "      <td>3.0</td>\n",
       "      <td>Product Quality/Damage</td>\n",
       "      <td>35.0</td>\n",
       "      <td>Poor quality</td>\n",
       "      <td>5310.0</td>\n",
       "      <td>Chicken Boticut 500gm</td>\n",
       "      <td>False</td>\n",
       "      <td>BK Traders 2</td>\n",
       "      <td>Quality of meat is very bad</td>\n",
       "      <td>unresolved</td>\n",
       "      <td>6</td>\n",
       "    </tr>\n",
       "  </tbody>\n",
       "</table>\n",
       "<p>95393 rows × 14 columns</p>\n",
       "</div>"
      ],
      "text/plain": [
       "               created_at   order_id  warehouse_id  complaint_reason_id  \\\n",
       "0     2021-01-01 05:43:00        NaN           NaN                  5.0   \n",
       "1     2021-01-01 08:49:00        NaN           NaN                  4.0   \n",
       "2     2021-01-01 10:03:00        NaN           NaN                  4.0   \n",
       "3     2021-01-01 10:04:00        NaN           NaN                  4.0   \n",
       "4     2021-01-01 11:13:00        NaN           NaN                  5.0   \n",
       "...                   ...        ...           ...                  ...   \n",
       "95388 2021-06-22 16:04:00   959674.0          38.0                  3.0   \n",
       "95389 2021-06-23 11:07:00   967042.0           1.0                  3.0   \n",
       "95390 2021-06-23 19:02:00   921032.0          39.0                  3.0   \n",
       "95391 2021-06-25 14:34:00   992164.0         239.0                  3.0   \n",
       "95392 2021-06-27 08:37:00  1008915.0         238.0                  3.0   \n",
       "\n",
       "       complaint_reason_title  complaint_sub_reason_id  \\\n",
       "0                     Payment                      7.0   \n",
       "1                   Technical                      8.0   \n",
       "2                   Technical                     18.0   \n",
       "3                   Technical                     18.0   \n",
       "4                     Payment                      7.0   \n",
       "...                       ...                      ...   \n",
       "95388  Product Quality/Damage                     14.0   \n",
       "95389  Product Quality/Damage                     14.0   \n",
       "95390  Product Quality/Damage                     12.0   \n",
       "95391  Product Quality/Damage                     35.0   \n",
       "95392  Product Quality/Damage                     35.0   \n",
       "\n",
       "      complaint_sub_reason_title  product_id  \\\n",
       "0      Credits were not uploaded         NaN   \n",
       "1             App is not working         NaN   \n",
       "2                          Other         NaN   \n",
       "3                          Other         NaN   \n",
       "4      Credits were not uploaded         NaN   \n",
       "...                          ...         ...   \n",
       "95388                     Missed      6204.0   \n",
       "95389                     Missed      9910.0   \n",
       "95390                    Damaged       945.0   \n",
       "95391               Poor quality      6747.0   \n",
       "95392               Poor quality      5310.0   \n",
       "\n",
       "                                            product_name is_centralized  \\\n",
       "0                                                    NaN            NaN   \n",
       "1                                                    NaN            NaN   \n",
       "2                                                    NaN            NaN   \n",
       "3                                                    NaN            NaN   \n",
       "4                                                    NaN            NaN   \n",
       "...                                                  ...            ...   \n",
       "95388                          Sabroso Shami Kabab 240gm          False   \n",
       "95389  Dunhill Cigarette International Red (20 Cigare...           True   \n",
       "95390                 Farm Fresh Classic Eggs Half Dozen          False   \n",
       "95391                                     Veal Mix 900gm          False   \n",
       "95392                              Chicken Boticut 500gm          False   \n",
       "\n",
       "              supplier                                        description  \\\n",
       "0                  NaN              Points are not appering in my account   \n",
       "1                  NaN  order ho hi nhai RHA address likny my bad agy ...   \n",
       "2                  NaN  What ever item I'm selecting to buy eith it's ...   \n",
       "3                  NaN                    Y'all take forever to Restock.    \n",
       "4                  NaN                                                NaN   \n",
       "...                ...                                                ...   \n",
       "95388          Sabroso     2 items are missing \\nseekh kabab\\nshani kabab   \n",
       "95389  Qayyums Traders                            this item is missing \\n   \n",
       "95390       Farm Fresh                        One of the eggs was broken.   \n",
       "95391    Chicken Point  the package mainly consisted of bones there we...   \n",
       "95392     BK Traders 2                       Quality of meat is very bad    \n",
       "\n",
       "      resolved_action  month  \n",
       "0                call      1  \n",
       "1                call      1  \n",
       "2                call      1  \n",
       "3                call      1  \n",
       "4                call      1  \n",
       "...               ...    ...  \n",
       "95388      unresolved      6  \n",
       "95389      unresolved      6  \n",
       "95390      unresolved      6  \n",
       "95391      unresolved      6  \n",
       "95392      unresolved      6  \n",
       "\n",
       "[95393 rows x 14 columns]"
      ]
     },
     "execution_count": 11,
     "metadata": {},
     "output_type": "execute_result"
    }
   ],
   "source": [
    "df4['month'] = df4['created_at'].dt.month\n",
    "df4"
   ]
  },
  {
   "cell_type": "code",
   "execution_count": 12,
   "metadata": {},
   "outputs": [
    {
     "data": {
      "text/plain": [
       "6"
      ]
     },
     "execution_count": 12,
     "metadata": {},
     "output_type": "execute_result"
    }
   ],
   "source": [
    "df4.month.nunique()"
   ]
  },
  {
   "cell_type": "code",
   "execution_count": 14,
   "metadata": {},
   "outputs": [
    {
     "data": {
      "text/plain": [
       "array([1, 2, 3, 4, 5, 6], dtype=int64)"
      ]
     },
     "execution_count": 14,
     "metadata": {},
     "output_type": "execute_result"
    }
   ],
   "source": [
    "df4.month.unique()"
   ]
  },
  {
   "cell_type": "markdown",
   "metadata": {},
   "source": [
    "## Count number of resolved_actions "
   ]
  },
  {
   "cell_type": "code",
   "execution_count": 15,
   "metadata": {},
   "outputs": [
    {
     "data": {
      "text/plain": [
       "array(['call', 'unresolved', 'refund', 'replacement'], dtype=object)"
      ]
     },
     "execution_count": 15,
     "metadata": {},
     "output_type": "execute_result"
    }
   ],
   "source": [
    "df4.resolved_action.unique()                   "
   ]
  },
  {
   "cell_type": "code",
   "execution_count": 16,
   "metadata": {},
   "outputs": [
    {
     "data": {
      "text/plain": [
       "unresolved     67390\n",
       "call           26346\n",
       "replacement      966\n",
       "refund           691\n",
       "Name: resolved_action, dtype: int64"
      ]
     },
     "execution_count": 16,
     "metadata": {},
     "output_type": "execute_result"
    }
   ],
   "source": [
    "df4.resolved_action.value_counts()"
   ]
  },
  {
   "cell_type": "markdown",
   "metadata": {},
   "source": [
    "Considering replacement+refund as 'resolved' matter (as 'call' does not guarantee if the matter has been solved), we can see below that only 1.7% of the total complaints get resolved. This is something that could be worked on for customer retention"
   ]
  },
  {
   "cell_type": "code",
   "execution_count": 30,
   "metadata": {},
   "outputs": [
    {
     "data": {
      "text/plain": [
       "1.7370247292778296"
      ]
     },
     "execution_count": 30,
     "metadata": {},
     "output_type": "execute_result"
    }
   ],
   "source": [
    "(691+966)/(691+966+26346+67390) * 100"
   ]
  },
  {
   "cell_type": "markdown",
   "metadata": {},
   "source": [
    "## Most frequent Complaint Reason"
   ]
  },
  {
   "cell_type": "code",
   "execution_count": 21,
   "metadata": {},
   "outputs": [
    {
     "data": {
      "text/plain": [
       "array(['Payment', 'Technical', nan, 'Product Quality/Damage', 'Delivery',\n",
       "       'default'], dtype=object)"
      ]
     },
     "execution_count": 21,
     "metadata": {},
     "output_type": "execute_result"
    }
   ],
   "source": [
    "df4.complaint_reason_title.unique()\n"
   ]
  },
  {
   "cell_type": "code",
   "execution_count": 22,
   "metadata": {},
   "outputs": [
    {
     "data": {
      "text/plain": [
       "5"
      ]
     },
     "execution_count": 22,
     "metadata": {},
     "output_type": "execute_result"
    }
   ],
   "source": [
    "df4.complaint_reason_title.nunique()"
   ]
  },
  {
   "cell_type": "code",
   "execution_count": 25,
   "metadata": {},
   "outputs": [
    {
     "data": {
      "text/plain": [
       "Product Quality/Damage    36334\n",
       "Delivery                  21813\n",
       "Payment                   11389\n",
       "Technical                 11026\n",
       "default                     305\n",
       "Name: complaint_reason_title, dtype: int64"
      ]
     },
     "execution_count": 25,
     "metadata": {},
     "output_type": "execute_result"
    }
   ],
   "source": [
    "df4.complaint_reason_title.value_counts()"
   ]
  },
  {
   "cell_type": "markdown",
   "metadata": {},
   "source": [
    "## Most frequent Sub-Complaint Reason "
   ]
  },
  {
   "cell_type": "code",
   "execution_count": 23,
   "metadata": {},
   "outputs": [
    {
     "data": {
      "text/plain": [
       "array(['Credits were not uploaded', 'App is not working', 'Other',\n",
       "       'Issues with Category or product', 'Credit Card Payment Issue',\n",
       "       'Products are not loading', nan, 'Rider did not have change',\n",
       "       'Damaged', 'Expired', 'Rider Was Late', 'Rider Behaviour',\n",
       "       'Poor quality', 'Missed', 'Melted', 'Underweight', 'Stale',\n",
       "       'Dirty packing', 'Rider not carrying CNIC'], dtype=object)"
      ]
     },
     "execution_count": 23,
     "metadata": {},
     "output_type": "execute_result"
    }
   ],
   "source": [
    "df4.complaint_sub_reason_title.unique()"
   ]
  },
  {
   "cell_type": "code",
   "execution_count": 24,
   "metadata": {},
   "outputs": [
    {
     "data": {
      "text/plain": [
       "18"
      ]
     },
     "execution_count": 24,
     "metadata": {},
     "output_type": "execute_result"
    }
   ],
   "source": [
    "df4.complaint_sub_reason_title.nunique()"
   ]
  },
  {
   "cell_type": "code",
   "execution_count": 26,
   "metadata": {},
   "outputs": [
    {
     "data": {
      "text/plain": [
       "Other                              24647\n",
       "Rider Was Late                     10950\n",
       "Damaged                             8620\n",
       "Missed                              6980\n",
       "Poor quality                        5222\n",
       "Expired                             4052\n",
       "Melted                              3574\n",
       "Credits were not uploaded           3301\n",
       "Dirty packing                       2015\n",
       "Credit Card Payment Issue           1929\n",
       "Stale                               1862\n",
       "Rider Behaviour                     1569\n",
       "Issues with Category or product     1531\n",
       "App is not working                  1436\n",
       "Underweight                         1065\n",
       "Products are not loading             699\n",
       "Rider did not have change            678\n",
       "Rider not carrying CNIC               55\n",
       "Name: complaint_sub_reason_title, dtype: int64"
      ]
     },
     "execution_count": 26,
     "metadata": {},
     "output_type": "execute_result"
    }
   ],
   "source": [
    "df4.complaint_sub_reason_title.value_counts()"
   ]
  },
  {
   "cell_type": "markdown",
   "metadata": {},
   "source": [
    "## Months with the most Complaints "
   ]
  },
  {
   "cell_type": "code",
   "execution_count": 39,
   "metadata": {},
   "outputs": [
    {
     "data": {
      "text/plain": [
       "<AxesSubplot:>"
      ]
     },
     "execution_count": 39,
     "metadata": {},
     "output_type": "execute_result"
    },
    {
     "data": {
      "image/png": "[encoded data removed]",
      "text/plain": [
       "<Figure size 432x288 with 1 Axes>"
      ]
     },
     "metadata": {
      "needs_background": "light"
     },
     "output_type": "display_data"
    }
   ],
   "source": [
    "df4.month.value_counts().plot(kind='barh')"
   ]
  },
  {
   "cell_type": "code",
   "execution_count": null,
   "metadata": {},
   "outputs": [],
   "source": []
  }
 ],
 "metadata": {
  "kernelspec": {
   "display_name": "Python 3",
   "language": "python",
   "name": "python3"
  },
  "language_info": {
   "codemirror_mode": {
    "name": "ipython",
    "version": 3
   },
   "file_extension": ".py",
   "mimetype": "text/x-python",
   "name": "python",
   "nbconvert_exporter": "python",
   "pygments_lexer": "ipython3",
   "version": "3.9.1"
  }
 },
 "nbformat": 4,
 "nbformat_minor": 4
}
