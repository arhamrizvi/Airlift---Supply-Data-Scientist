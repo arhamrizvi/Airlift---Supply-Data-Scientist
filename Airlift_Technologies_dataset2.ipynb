{
 "cells": [
  {
   "cell_type": "code",
   "execution_count": 1,
   "metadata": {},
   "outputs": [],
   "source": [
    "import pandas as pd\n",
    "import matplotlib.pyplot as plt\n",
    "#import datetime\n",
    "import numpy as np"
   ]
  },
  {
   "cell_type": "code",
   "execution_count": 4,
   "metadata": {},
   "outputs": [
    {
     "data": {
      "text/html": [
       "<div>\n",
       "<style scoped>\n",
       "    .dataframe tbody tr th:only-of-type {\n",
       "        vertical-align: middle;\n",
       "    }\n",
       "\n",
       "    .dataframe tbody tr th {\n",
       "        vertical-align: top;\n",
       "    }\n",
       "\n",
       "    .dataframe thead th {\n",
       "        text-align: right;\n",
       "    }\n",
       "</style>\n",
       "<table border=\"1\" class=\"dataframe\">\n",
       "  <thead>\n",
       "    <tr style=\"text-align: right;\">\n",
       "      <th></th>\n",
       "      <th>id</th>\n",
       "      <th>warehouse_id</th>\n",
       "      <th>product_id</th>\n",
       "      <th>hours_out_of_stock</th>\n",
       "      <th>daily_sales_adj</th>\n",
       "      <th>selling_price</th>\n",
       "      <th>day</th>\n",
       "      <th>city</th>\n",
       "    </tr>\n",
       "  </thead>\n",
       "  <tbody>\n",
       "    <tr>\n",
       "      <th>0</th>\n",
       "      <td>2408059</td>\n",
       "      <td>1</td>\n",
       "      <td>9</td>\n",
       "      <td>11.765823</td>\n",
       "      <td>5.657077</td>\n",
       "      <td>60.0</td>\n",
       "      <td>4/1/2021</td>\n",
       "      <td>Lahore</td>\n",
       "    </tr>\n",
       "    <tr>\n",
       "      <th>1</th>\n",
       "      <td>2454707</td>\n",
       "      <td>1</td>\n",
       "      <td>10</td>\n",
       "      <td>9.660333</td>\n",
       "      <td>11.868269</td>\n",
       "      <td>20.0</td>\n",
       "      <td>4/1/2021</td>\n",
       "      <td>Lahore</td>\n",
       "    </tr>\n",
       "    <tr>\n",
       "      <th>2</th>\n",
       "      <td>2482569</td>\n",
       "      <td>1</td>\n",
       "      <td>13</td>\n",
       "      <td>0.209807</td>\n",
       "      <td>9.000000</td>\n",
       "      <td>111.0</td>\n",
       "      <td>4/1/2021</td>\n",
       "      <td>Lahore</td>\n",
       "    </tr>\n",
       "    <tr>\n",
       "      <th>3</th>\n",
       "      <td>2222342</td>\n",
       "      <td>1</td>\n",
       "      <td>17</td>\n",
       "      <td>14.000000</td>\n",
       "      <td>1.997337</td>\n",
       "      <td>159.0</td>\n",
       "      <td>4/1/2021</td>\n",
       "      <td>Lahore</td>\n",
       "    </tr>\n",
       "    <tr>\n",
       "      <th>4</th>\n",
       "      <td>2441527</td>\n",
       "      <td>1</td>\n",
       "      <td>24</td>\n",
       "      <td>11.766224</td>\n",
       "      <td>0.714286</td>\n",
       "      <td>580.0</td>\n",
       "      <td>4/1/2021</td>\n",
       "      <td>Lahore</td>\n",
       "    </tr>\n",
       "  </tbody>\n",
       "</table>\n",
       "</div>"
      ],
      "text/plain": [
       "        id  warehouse_id  product_id  hours_out_of_stock  daily_sales_adj  \\\n",
       "0  2408059             1           9           11.765823         5.657077   \n",
       "1  2454707             1          10            9.660333        11.868269   \n",
       "2  2482569             1          13            0.209807         9.000000   \n",
       "3  2222342             1          17           14.000000         1.997337   \n",
       "4  2441527             1          24           11.766224         0.714286   \n",
       "\n",
       "   selling_price       day    city  \n",
       "0           60.0  4/1/2021  Lahore  \n",
       "1           20.0  4/1/2021  Lahore  \n",
       "2          111.0  4/1/2021  Lahore  \n",
       "3          159.0  4/1/2021  Lahore  \n",
       "4          580.0  4/1/2021  Lahore  "
      ]
     },
     "execution_count": 4,
     "metadata": {},
     "output_type": "execute_result"
    }
   ],
   "source": [
    "df2 = pd.read_csv('Airlift - case study - data set - Data set 2.csv')\n",
    "df2.head()"
   ]
  },
  {
   "cell_type": "code",
   "execution_count": 5,
   "metadata": {},
   "outputs": [
    {
     "name": "stdout",
     "output_type": "stream",
     "text": [
      "<class 'pandas.core.frame.DataFrame'>\n",
      "RangeIndex: 260504 entries, 0 to 260503\n",
      "Data columns (total 8 columns):\n",
      " #   Column              Non-Null Count   Dtype  \n",
      "---  ------              --------------   -----  \n",
      " 0   id                  260504 non-null  int64  \n",
      " 1   warehouse_id        260504 non-null  int64  \n",
      " 2   product_id          260504 non-null  int64  \n",
      " 3   hours_out_of_stock  260504 non-null  float64\n",
      " 4   daily_sales_adj     204399 non-null  float64\n",
      " 5   selling_price       260504 non-null  float64\n",
      " 6   day                 260504 non-null  object \n",
      " 7   city                260504 non-null  object \n",
      "dtypes: float64(3), int64(3), object(2)\n",
      "memory usage: 15.9+ MB\n"
     ]
    }
   ],
   "source": [
    "df2.info()"
   ]
  },
  {
   "cell_type": "code",
   "execution_count": 6,
   "metadata": {},
   "outputs": [
    {
     "data": {
      "text/html": [
       "<div>\n",
       "<style scoped>\n",
       "    .dataframe tbody tr th:only-of-type {\n",
       "        vertical-align: middle;\n",
       "    }\n",
       "\n",
       "    .dataframe tbody tr th {\n",
       "        vertical-align: top;\n",
       "    }\n",
       "\n",
       "    .dataframe thead th {\n",
       "        text-align: right;\n",
       "    }\n",
       "</style>\n",
       "<table border=\"1\" class=\"dataframe\">\n",
       "  <thead>\n",
       "    <tr style=\"text-align: right;\">\n",
       "      <th></th>\n",
       "      <th>id</th>\n",
       "      <th>warehouse_id</th>\n",
       "      <th>product_id</th>\n",
       "      <th>hours_out_of_stock</th>\n",
       "      <th>daily_sales_adj</th>\n",
       "      <th>selling_price</th>\n",
       "    </tr>\n",
       "  </thead>\n",
       "  <tbody>\n",
       "    <tr>\n",
       "      <th>count</th>\n",
       "      <td>2.605040e+05</td>\n",
       "      <td>260504.000000</td>\n",
       "      <td>260504.000000</td>\n",
       "      <td>260504.000000</td>\n",
       "      <td>204399.000000</td>\n",
       "      <td>260504.000000</td>\n",
       "    </tr>\n",
       "    <tr>\n",
       "      <th>mean</th>\n",
       "      <td>2.766015e+06</td>\n",
       "      <td>47.135825</td>\n",
       "      <td>4060.901633</td>\n",
       "      <td>9.740099</td>\n",
       "      <td>3.946806</td>\n",
       "      <td>311.622367</td>\n",
       "    </tr>\n",
       "    <tr>\n",
       "      <th>std</th>\n",
       "      <td>6.490961e+05</td>\n",
       "      <td>35.413071</td>\n",
       "      <td>2982.433859</td>\n",
       "      <td>5.310028</td>\n",
       "      <td>9.957354</td>\n",
       "      <td>1164.930764</td>\n",
       "    </tr>\n",
       "    <tr>\n",
       "      <th>min</th>\n",
       "      <td>9.048000e+03</td>\n",
       "      <td>1.000000</td>\n",
       "      <td>1.000000</td>\n",
       "      <td>0.000000</td>\n",
       "      <td>0.000000</td>\n",
       "      <td>5.000000</td>\n",
       "    </tr>\n",
       "    <tr>\n",
       "      <th>25%</th>\n",
       "      <td>2.530297e+06</td>\n",
       "      <td>35.000000</td>\n",
       "      <td>1474.000000</td>\n",
       "      <td>4.797499</td>\n",
       "      <td>0.428571</td>\n",
       "      <td>75.000000</td>\n",
       "    </tr>\n",
       "    <tr>\n",
       "      <th>50%</th>\n",
       "      <td>2.837228e+06</td>\n",
       "      <td>38.000000</td>\n",
       "      <td>3350.000000</td>\n",
       "      <td>14.000000</td>\n",
       "      <td>1.013274</td>\n",
       "      <td>155.000000</td>\n",
       "    </tr>\n",
       "    <tr>\n",
       "      <th>75%</th>\n",
       "      <td>3.186382e+06</td>\n",
       "      <td>68.000000</td>\n",
       "      <td>6432.000000</td>\n",
       "      <td>14.000000</td>\n",
       "      <td>2.900188</td>\n",
       "      <td>325.000000</td>\n",
       "    </tr>\n",
       "    <tr>\n",
       "      <th>max</th>\n",
       "      <td>3.741990e+06</td>\n",
       "      <td>169.000000</td>\n",
       "      <td>11563.000000</td>\n",
       "      <td>14.992370</td>\n",
       "      <td>223.171777</td>\n",
       "      <td>48900.000000</td>\n",
       "    </tr>\n",
       "  </tbody>\n",
       "</table>\n",
       "</div>"
      ],
      "text/plain": [
       "                 id   warehouse_id     product_id  hours_out_of_stock  \\\n",
       "count  2.605040e+05  260504.000000  260504.000000       260504.000000   \n",
       "mean   2.766015e+06      47.135825    4060.901633            9.740099   \n",
       "std    6.490961e+05      35.413071    2982.433859            5.310028   \n",
       "min    9.048000e+03       1.000000       1.000000            0.000000   \n",
       "25%    2.530297e+06      35.000000    1474.000000            4.797499   \n",
       "50%    2.837228e+06      38.000000    3350.000000           14.000000   \n",
       "75%    3.186382e+06      68.000000    6432.000000           14.000000   \n",
       "max    3.741990e+06     169.000000   11563.000000           14.992370   \n",
       "\n",
       "       daily_sales_adj  selling_price  \n",
       "count    204399.000000  260504.000000  \n",
       "mean          3.946806     311.622367  \n",
       "std           9.957354    1164.930764  \n",
       "min           0.000000       5.000000  \n",
       "25%           0.428571      75.000000  \n",
       "50%           1.013274     155.000000  \n",
       "75%           2.900188     325.000000  \n",
       "max         223.171777   48900.000000  "
      ]
     },
     "execution_count": 6,
     "metadata": {},
     "output_type": "execute_result"
    }
   ],
   "source": [
    "df2.describe()"
   ]
  },
  {
   "cell_type": "markdown",
   "metadata": {},
   "source": [
    "## Average time hours_out_of_stock is: 9.74 hours\n",
    "## Max time hours_out_of_stock is: 14.99 hours"
   ]
  },
  {
   "cell_type": "code",
   "execution_count": 7,
   "metadata": {},
   "outputs": [
    {
     "data": {
      "text/plain": [
       "id                        0\n",
       "warehouse_id              0\n",
       "product_id                0\n",
       "hours_out_of_stock        0\n",
       "daily_sales_adj       56105\n",
       "selling_price             0\n",
       "day                       0\n",
       "city                      0\n",
       "dtype: int64"
      ]
     },
     "execution_count": 7,
     "metadata": {},
     "output_type": "execute_result"
    }
   ],
   "source": [
    "df2.isna().sum()"
   ]
  },
  {
   "cell_type": "code",
   "execution_count": 8,
   "metadata": {},
   "outputs": [
    {
     "name": "stdout",
     "output_type": "stream",
     "text": [
      "<class 'pandas.core.frame.DataFrame'>\n",
      "RangeIndex: 260504 entries, 0 to 260503\n",
      "Data columns (total 8 columns):\n",
      " #   Column              Non-Null Count   Dtype         \n",
      "---  ------              --------------   -----         \n",
      " 0   id                  260504 non-null  int64         \n",
      " 1   warehouse_id        260504 non-null  int64         \n",
      " 2   product_id          260504 non-null  int64         \n",
      " 3   hours_out_of_stock  260504 non-null  float64       \n",
      " 4   daily_sales_adj     204399 non-null  float64       \n",
      " 5   selling_price       260504 non-null  float64       \n",
      " 6   day                 260504 non-null  datetime64[ns]\n",
      " 7   city                260504 non-null  object        \n",
      "dtypes: datetime64[ns](1), float64(3), int64(3), object(1)\n",
      "memory usage: 15.9+ MB\n"
     ]
    }
   ],
   "source": [
    "#convert from object to date time\n",
    "df2['day'] = pd.to_datetime(df2['day'])\n",
    "df2.info()"
   ]
  },
  {
   "cell_type": "code",
   "execution_count": 10,
   "metadata": {},
   "outputs": [
    {
     "data": {
      "text/html": [
       "<div>\n",
       "<style scoped>\n",
       "    .dataframe tbody tr th:only-of-type {\n",
       "        vertical-align: middle;\n",
       "    }\n",
       "\n",
       "    .dataframe tbody tr th {\n",
       "        vertical-align: top;\n",
       "    }\n",
       "\n",
       "    .dataframe thead th {\n",
       "        text-align: right;\n",
       "    }\n",
       "</style>\n",
       "<table border=\"1\" class=\"dataframe\">\n",
       "  <thead>\n",
       "    <tr style=\"text-align: right;\">\n",
       "      <th></th>\n",
       "      <th>id</th>\n",
       "      <th>warehouse_id</th>\n",
       "      <th>product_id</th>\n",
       "      <th>hours_out_of_stock</th>\n",
       "      <th>daily_sales_adj</th>\n",
       "      <th>selling_price</th>\n",
       "      <th>day</th>\n",
       "      <th>city</th>\n",
       "      <th>month</th>\n",
       "    </tr>\n",
       "  </thead>\n",
       "  <tbody>\n",
       "    <tr>\n",
       "      <th>0</th>\n",
       "      <td>2408059</td>\n",
       "      <td>1</td>\n",
       "      <td>9</td>\n",
       "      <td>11.765823</td>\n",
       "      <td>5.657077</td>\n",
       "      <td>60.0</td>\n",
       "      <td>2021-04-01</td>\n",
       "      <td>Lahore</td>\n",
       "      <td>4</td>\n",
       "    </tr>\n",
       "    <tr>\n",
       "      <th>1</th>\n",
       "      <td>2454707</td>\n",
       "      <td>1</td>\n",
       "      <td>10</td>\n",
       "      <td>9.660333</td>\n",
       "      <td>11.868269</td>\n",
       "      <td>20.0</td>\n",
       "      <td>2021-04-01</td>\n",
       "      <td>Lahore</td>\n",
       "      <td>4</td>\n",
       "    </tr>\n",
       "    <tr>\n",
       "      <th>2</th>\n",
       "      <td>2482569</td>\n",
       "      <td>1</td>\n",
       "      <td>13</td>\n",
       "      <td>0.209807</td>\n",
       "      <td>9.000000</td>\n",
       "      <td>111.0</td>\n",
       "      <td>2021-04-01</td>\n",
       "      <td>Lahore</td>\n",
       "      <td>4</td>\n",
       "    </tr>\n",
       "    <tr>\n",
       "      <th>3</th>\n",
       "      <td>2222342</td>\n",
       "      <td>1</td>\n",
       "      <td>17</td>\n",
       "      <td>14.000000</td>\n",
       "      <td>1.997337</td>\n",
       "      <td>159.0</td>\n",
       "      <td>2021-04-01</td>\n",
       "      <td>Lahore</td>\n",
       "      <td>4</td>\n",
       "    </tr>\n",
       "    <tr>\n",
       "      <th>4</th>\n",
       "      <td>2441527</td>\n",
       "      <td>1</td>\n",
       "      <td>24</td>\n",
       "      <td>11.766224</td>\n",
       "      <td>0.714286</td>\n",
       "      <td>580.0</td>\n",
       "      <td>2021-04-01</td>\n",
       "      <td>Lahore</td>\n",
       "      <td>4</td>\n",
       "    </tr>\n",
       "  </tbody>\n",
       "</table>\n",
       "</div>"
      ],
      "text/plain": [
       "        id  warehouse_id  product_id  hours_out_of_stock  daily_sales_adj  \\\n",
       "0  2408059             1           9           11.765823         5.657077   \n",
       "1  2454707             1          10            9.660333        11.868269   \n",
       "2  2482569             1          13            0.209807         9.000000   \n",
       "3  2222342             1          17           14.000000         1.997337   \n",
       "4  2441527             1          24           11.766224         0.714286   \n",
       "\n",
       "   selling_price        day    city  month  \n",
       "0           60.0 2021-04-01  Lahore      4  \n",
       "1           20.0 2021-04-01  Lahore      4  \n",
       "2          111.0 2021-04-01  Lahore      4  \n",
       "3          159.0 2021-04-01  Lahore      4  \n",
       "4          580.0 2021-04-01  Lahore      4  "
      ]
     },
     "execution_count": 10,
     "metadata": {},
     "output_type": "execute_result"
    }
   ],
   "source": [
    "df2['month'] = df2['day'].dt.month\n"
   ]
  },
  {
   "cell_type": "markdown",
   "metadata": {},
   "source": [
    "## Data for only 1 Month (April 2021) "
   ]
  },
  {
   "cell_type": "code",
   "execution_count": 18,
   "metadata": {},
   "outputs": [
    {
     "data": {
      "text/plain": [
       "1"
      ]
     },
     "execution_count": 18,
     "metadata": {},
     "output_type": "execute_result"
    }
   ],
   "source": [
    "df2.month.nunique()"
   ]
  },
  {
   "cell_type": "code",
   "execution_count": 19,
   "metadata": {},
   "outputs": [
    {
     "data": {
      "text/plain": [
       "260499   2021-04-30\n",
       "260500   2021-04-30\n",
       "260501   2021-04-30\n",
       "260502   2021-04-30\n",
       "260503   2021-04-30\n",
       "Name: day, dtype: datetime64[ns]"
      ]
     },
     "execution_count": 19,
     "metadata": {},
     "output_type": "execute_result"
    }
   ],
   "source": [
    "df2.day.tail()"
   ]
  },
  {
   "cell_type": "markdown",
   "metadata": {},
   "source": [
    "## Data for only 3 cities "
   ]
  },
  {
   "cell_type": "code",
   "execution_count": 21,
   "metadata": {},
   "outputs": [
    {
     "data": {
      "text/plain": [
       "array(['Lahore', 'Karachi', 'Islamabad'], dtype=object)"
      ]
     },
     "execution_count": 21,
     "metadata": {},
     "output_type": "execute_result"
    }
   ],
   "source": [
    "df2.city.unique()"
   ]
  },
  {
   "cell_type": "code",
   "execution_count": null,
   "metadata": {},
   "outputs": [],
   "source": []
  },
  {
   "cell_type": "code",
   "execution_count": 23,
   "metadata": {},
   "outputs": [
    {
     "data": {
      "text/plain": [
       "Lahore       150689\n",
       "Karachi       96826\n",
       "Islamabad     12989\n",
       "Name: city, dtype: int64"
      ]
     },
     "execution_count": 23,
     "metadata": {},
     "output_type": "execute_result"
    }
   ],
   "source": [
    "df2.city.value_counts()"
   ]
  },
  {
   "cell_type": "markdown",
   "metadata": {},
   "source": [
    "## 10 warehouses across pakistan "
   ]
  },
  {
   "cell_type": "code",
   "execution_count": 27,
   "metadata": {},
   "outputs": [
    {
     "data": {
      "text/plain": [
       "10"
      ]
     },
     "execution_count": 27,
     "metadata": {},
     "output_type": "execute_result"
    }
   ],
   "source": [
    "df2.warehouse_id.nunique()"
   ]
  },
  {
   "cell_type": "code",
   "execution_count": 28,
   "metadata": {},
   "outputs": [
    {
     "data": {
      "text/plain": [
       "1      47596\n",
       "39     34423\n",
       "68     32564\n",
       "35     30700\n",
       "38     28347\n",
       "37     26061\n",
       "69     24774\n",
       "67     17644\n",
       "135    12989\n",
       "169     5406\n",
       "Name: warehouse_id, dtype: int64"
      ]
     },
     "execution_count": 28,
     "metadata": {},
     "output_type": "execute_result"
    }
   ],
   "source": [
    "df2.warehouse_id.value_counts()"
   ]
  },
  {
   "cell_type": "markdown",
   "metadata": {},
   "source": [
    "## Number of products in those warehouses: 6607 "
   ]
  },
  {
   "cell_type": "code",
   "execution_count": 30,
   "metadata": {},
   "outputs": [
    {
     "data": {
      "text/plain": [
       "6607"
      ]
     },
     "execution_count": 30,
     "metadata": {},
     "output_type": "execute_result"
    }
   ],
   "source": [
    "df2.product_id.nunique()"
   ]
  },
  {
   "cell_type": "code",
   "execution_count": null,
   "metadata": {},
   "outputs": [],
   "source": []
  }
 ],
 "metadata": {
  "kernelspec": {
   "display_name": "Python 3",
   "language": "python",
   "name": "python3"
  },
  "language_info": {
   "codemirror_mode": {
    "name": "ipython",
    "version": 3
   },
   "file_extension": ".py",
   "mimetype": "text/x-python",
   "name": "python",
   "nbconvert_exporter": "python",
   "pygments_lexer": "ipython3",
   "version": "3.9.1"
  }
 },
 "nbformat": 4,
 "nbformat_minor": 4
}
